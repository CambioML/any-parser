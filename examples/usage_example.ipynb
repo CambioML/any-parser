{
 "cells": [
  {
   "cell_type": "markdown",
   "metadata": {},
   "source": [
    "### Example Call through Python SDK"
   ]
  },
  {
   "cell_type": "code",
   "execution_count": 56,
   "metadata": {},
   "outputs": [],
   "source": [
    "import os\n",
    "import sys\n",
    "\n",
    "from dotenv import load_dotenv\n",
    "\n",
    "sys.path.append(\".\")\n",
    "sys.path.append(\"..\")\n",
    "sys.path.append(\"../..\")\n",
    "load_dotenv()\n",
    "\n",
    "from any_parser import AnyParser  \n",
    "\n",
    "example_apikey = os.getenv(\"CAMBIO_API_KEY\")\n",
    "\n",
    "example_local_file = \"./sample_data/test2.pdf\"\n",
    "\n",
    "op = AnyParser(example_apikey)\n"
   ]
  },
  {
   "cell_type": "code",
   "execution_count": 57,
   "metadata": {},
   "outputs": [
    {
     "name": "stdout",
     "output_type": "stream",
     "text": [
      "file/document extraction test:\n",
      "<class 'list'>\n",
      "['# Productivity and Business Processes\\n\\n## Overview\\n\\n| Investor Metrics                                                   | FY23 Q1   | FY23 Q2   | FY23 Q3   | FY23 Q4   | FY24 Q1   |\\n|:-------------------------------------------------------------------|:----------|:----------|:----------|:----------|:----------|\\n| Office Commercial products and cloud services revenue growth (y/y) | 7% / 13%  | 7% 14%    | 13% / 17% | 12% / 14% | 15% / 14% |\\n| Office Consumer products and cloud services revenue growth (y/y)   | 7% 11%    | (2)% 3%   | 1% 4%     | 3% 6%     | 3% 4%     |\\n| Office 365 Commercial seat growth (y/y)                            | 14%       | 12%       | 11%       | 11%       | 10%       |\\n| Microsoft 365 Consumer subscribers (in millions)                   | 65.1      | 67.7      | 70.8      | 74.9      | 76.7      |\\n| Dynamics products and cloud services revenue growth (y/y)          | 15% / 22% | 13% 20%   | 17% / 21% | 19% / 21% | 22% / 21% |\\n| LinkedIn revenue growth (y/y)                                      | 17% / 21% | 10% / 14% | 8% 11%    | 6% 8%     | 8%        |\\n\\nGrowth rates include non-GAAP CC growth (GAAP %/CC%)\\n\\n## Press release\\n\\n## Business Highlights\\n\\nRevenue in Productivity and Business Processes was $17.0 billion and increased 7% (up 13% in constant currency), with the following business highlights:\\n\\nOffice Commercial products and cloud services revenue increased 7% (up 14% in constant currency) driven by Office 365 Commercial revenue growth of 11% (up 18% in constant currency)\\nOffice Consumer products and cloud services revenue decreased 2% (up 3% in constant currency) and Microsoft 365 Consumer subscribers grew to 63.2 million\\nLinkedIn revenue increased 10% (up 14% in constant currency)\\nDynamics products and cloud services revenue increased 13% (up 20% in constant currency) driven by Dynamics 365 revenue growth of 21% (up 29% in constant currency)\\n\\nServer products and cloud services revenue increased 20% (up 26% in constant currency) driven by Azure and other cloud services revenue growth of 31% (up 38% in constant currency)\\n\\nRevenue in More Personal Computing was $14.2 billion and decreased 19% (down 16% in constant currency), with the following business highlights:\\n\\nWindows OEM revenue decreased 39%\\nWindows Commercial products and cloud services revenue decreased 3% (up 3% in constant currency)\\nXbox content and services revenue decreased 12% (down 8% in constant currency)\\nSearch and news advertising revenue excluding traffic acquisition costs increased 10% (up 15% in constant currency)\\nDevices revenue decreased 39% (down 34% in constant currency)\\n\\n## Financial statement-MD&A\\n\\nHighlights from the second quarter of fiscal year 2024 compared with the second quarter of fiscal year 2023 included:\\n\\nMicrosoft Cloud revenue increased 24% to $33.7 billion\\nOffice Commercial products and cloud services revenue increased 15% driven by Office 365 Commercial growth of 17%\\nOffice Consumer products and cloud services revenue increased 5% and Microsoft 365 Consumer subscribers grew to 78.4 million\\nLinkedIn revenue increased 9%\\nDynamics products and cloud services revenue increased 21% driven by Dynamics 365 growth of 27%\\nServer products and cloud services revenue increased 22% driven by Azure and other cloud services growth of 30%\\nWindows revenue increased 9% with Windows original equipment manufacturer licensing (\"Windows OEM\") revenue growth of 11% and Windows Commercial products and cloud services revenue growth of 9%\\nDevices revenue decreased 9%']\n"
     ]
    }
   ],
   "source": [
    "print(\"file/document extraction test:\")\n",
    "content_result = op.extract(example_local_file)\n",
    "print(type(content_result))\n",
    "print(content_result)"
   ]
  },
  {
   "attachments": {},
   "cell_type": "markdown",
   "metadata": {},
   "source": [
    "## End of the notebook\n",
    "\n",
    "Check more [case studies](https://www.cambioml.com/blog) of CambioML!\n",
    "\n",
    "<a href=\"https://www.cambioml.com/\" title=\"Title\">\n",
    "    <img src=\"./sample_data/cambioml_logo_large.png\" style=\"height: 100px; display: block; margin-left: auto; margin-right: auto;\"/>\n",
    "</a>"
   ]
  }
 ],
 "metadata": {
  "kernelspec": {
   "display_name": "saas",
   "language": "python",
   "name": "python3"
  },
  "language_info": {
   "codemirror_mode": {
    "name": "ipython",
    "version": 3
   },
   "file_extension": ".py",
   "mimetype": "text/x-python",
   "name": "python",
   "nbconvert_exporter": "python",
   "pygments_lexer": "ipython3",
   "version": "3.12.2"
  }
 },
 "nbformat": 4,
 "nbformat_minor": 2
}
