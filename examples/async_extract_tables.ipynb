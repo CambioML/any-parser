{
 "cells": [
  {
   "cell_type": "code",
   "execution_count": 9,
   "metadata": {},
   "outputs": [],
   "source": [
    "# Install the libraries (ipython is used for displaying markdown in this demo)\n",
    "# !pip3 install --upgrade ipython\n",
    "# !pip3 install --upgrade any-parser"
   ]
  },
  {
   "cell_type": "code",
   "execution_count": 10,
   "metadata": {},
   "outputs": [],
   "source": [
    "from IPython.display import display, Markdown\n",
    "from any_parser import AnyParser\n",
    "import os"
   ]
  },
  {
   "cell_type": "code",
   "execution_count": 11,
   "metadata": {},
   "outputs": [],
   "source": [
    "ap = AnyParser(api_key=os.getenv(\"CAMBIO_API_KEY\"))"
   ]
  },
  {
   "cell_type": "code",
   "execution_count": 12,
   "metadata": {},
   "outputs": [],
   "source": [
    "file_path = \"./sample_data/sample.pdf\"\n",
    "file_id = ap.async_extract_tables(file_path)"
   ]
  },
  {
   "cell_type": "code",
   "execution_count": 13,
   "metadata": {},
   "outputs": [
    {
     "name": "stdout",
     "output_type": "stream",
     "text": [
      "Waiting for response...\n",
      "Waiting for response...\n",
      "Waiting for response...\n"
     ]
    }
   ],
   "source": [
    "markdown_output = ap.async_fetch(file_id=file_id)"
   ]
  },
  {
   "cell_type": "code",
   "execution_count": 14,
   "metadata": {},
   "outputs": [
    {
     "data": {
      "text/plain": [
       "['<table>\\n<tbody>\\n<tr><td style=\"text-align: right;\">1 </td><td>Overview 3                 </td><td>Technical information </td></tr>\\n<tr><td style=\"text-align: right;\">2 </td><td>Key requirements 4         </td><td>Ordering information  </td></tr>\\n<tr><td style=\"text-align: right;\">3 </td><td>Planned availability date 5</td><td>Terms and conditions  </td></tr>\\n<tr><td style=\"text-align: right;\">3 </td><td>Program number 8           </td><td>Prices                </td></tr>\\n<tr><td style=\"text-align: right;\">3 </td><td>Publications 8             </td><td>Announcement countries</td></tr>\\n</tbody>\\n</table>\\n\\n',\n",
       " '',\n",
       " '<table>\\n<tbody>\\n<tr><td>Program number</td><td>VRM  </td><td>Program name                                           </td></tr>\\n<tr><td>5737-L70      </td><td>2.8.0</td><td>IBM InfoSphere Optim Data Privacy for Unstructured Data</td></tr>\\n</tbody>\\n</table>\\n\\n',\n",
       " '<table>\\n<tbody>\\n<tr><td>Part number description                                                                                                                   </td><td>Part number</td></tr>\\n<tr><td>IBM Analytics - Platform InfoSphere Optim Data Privacy for Unstructured Data Annual Terabyte License + SW Subscription &amp; Support 12 Months</td><td>D2604LL    </td></tr>\\n</tbody>\\n</table>\\n\\n',\n",
       " '<table>\\n<tbody>\\n<tr><td>Part number description                                                                                                                        </td><td>Part number</td></tr>\\n<tr><td>IBM Analytics - Platform InfoSphere Optim Data Privacy for Unstructured Data Annual Terabyte SW Subscription &amp; Support Reinstatement 12 Months </td><td>D2605LL    </td></tr>\\n<tr><td>IBM Analytics - Platform InfoSphere Optim Data Privacy for Unstructured Data Annual Terabyte Annual SW Subscription &amp; Support Renewal 12 Months</td><td>E0QGMLL    </td></tr>\\n<tr><td>IBM Analytics - Platform InfoSphere Optim Data Privacy for Unstructured Data Annual Terabyte Monthly License                                   </td><td>D2608LL    </td></tr>\\n</tbody>\\n</table>\\n\\n<table>\\n<tbody>\\n<tr><td>Part number description                                                                                                                                  </td><td>Part number</td></tr>\\n<tr><td>IBM Analytics - Platform InfoSphere Optim Data Privacy for Unstructured Data Z Systems Annual Terabyte License + SW Subscription &amp; Support 12 Months     </td><td>D2606LL    </td></tr>\\n<tr><td>IBM Analytics - Platform InfoSphere Optim Data Privacy for Unstructured Data Z Systems Annual Terabyte SW Subscription &amp; Support Reinstatement 12 Months </td><td>D2607LL    </td></tr>\\n<tr><td>IBM Analytics - Platform InfoSphere Optim Data Privacy for Unstructured Data Z Systems Annual Terabyte Annual SW Subscription &amp; Support Renewal 12 Months</td><td>E0QGNLL    </td></tr>\\n<tr><td>IBM Analytics - Platform InfoSphere Optim Data Privacy for Unstructured Data Z Systems Annual Terabyte Monthly License                                   </td><td>D2609LL    </td></tr>\\n</tbody>\\n</table>\\n\\n<table>\\n<tbody>\\n<tr><td>Program identifier</td><td>License Information document title                     </td><td>License Information document number</td></tr>\\n<tr><td>5737-L70          </td><td>IBM InfoSphere Optim Data Privacy for Unstructured Data</td><td>L-JERN-BFQ3KR                      </td></tr>\\n</tbody>\\n</table>\\n\\n',\n",
       " '<table>\\n<tbody>\\n<tr><td>Program identifier</td><td>License Information document title                     </td><td>License Information document number</td></tr>\\n<tr><td>5737-L70          </td><td>IBM InfoSphere Optim Data Privacy for Unstructured Data</td><td>L-JERN-BFQ3KR                      </td></tr>\\n</tbody>\\n</table>\\n\\n',\n",
       " '',\n",
       " '',\n",
       " '']"
      ]
     },
     "execution_count": 14,
     "metadata": {},
     "output_type": "execute_result"
    }
   ],
   "source": [
    "markdown_output"
   ]
  },
  {
   "cell_type": "code",
   "execution_count": 15,
   "metadata": {},
   "outputs": [
    {
     "data": {
      "text/markdown": [
       "<table>\n",
       "<tbody>\n",
       "<tr><td style=\"text-align: right;\">1 </td><td>Overview 3                 </td><td>Technical information </td></tr>\n",
       "<tr><td style=\"text-align: right;\">2 </td><td>Key requirements 4         </td><td>Ordering information  </td></tr>\n",
       "<tr><td style=\"text-align: right;\">3 </td><td>Planned availability date 5</td><td>Terms and conditions  </td></tr>\n",
       "<tr><td style=\"text-align: right;\">3 </td><td>Program number 8           </td><td>Prices                </td></tr>\n",
       "<tr><td style=\"text-align: right;\">3 </td><td>Publications 8             </td><td>Announcement countries</td></tr>\n",
       "</tbody>\n",
       "</table>\n",
       "\n"
      ],
      "text/plain": [
       "<IPython.core.display.Markdown object>"
      ]
     },
     "metadata": {},
     "output_type": "display_data"
    }
   ],
   "source": [
    "display(Markdown(markdown_output[0]))"
   ]
  },
  {
   "cell_type": "code",
   "execution_count": 16,
   "metadata": {},
   "outputs": [
    {
     "data": {
      "text/markdown": [
       "<table>\n",
       "<tbody>\n",
       "<tr><td>Part number description                                                                                                                        </td><td>Part number</td></tr>\n",
       "<tr><td>IBM Analytics - Platform InfoSphere Optim Data Privacy for Unstructured Data Annual Terabyte SW Subscription &amp; Support Reinstatement 12 Months </td><td>D2605LL    </td></tr>\n",
       "<tr><td>IBM Analytics - Platform InfoSphere Optim Data Privacy for Unstructured Data Annual Terabyte Annual SW Subscription &amp; Support Renewal 12 Months</td><td>E0QGMLL    </td></tr>\n",
       "<tr><td>IBM Analytics - Platform InfoSphere Optim Data Privacy for Unstructured Data Annual Terabyte Monthly License                                   </td><td>D2608LL    </td></tr>\n",
       "</tbody>\n",
       "</table>\n",
       "\n",
       "<table>\n",
       "<tbody>\n",
       "<tr><td>Part number description                                                                                                                                  </td><td>Part number</td></tr>\n",
       "<tr><td>IBM Analytics - Platform InfoSphere Optim Data Privacy for Unstructured Data Z Systems Annual Terabyte License + SW Subscription &amp; Support 12 Months     </td><td>D2606LL    </td></tr>\n",
       "<tr><td>IBM Analytics - Platform InfoSphere Optim Data Privacy for Unstructured Data Z Systems Annual Terabyte SW Subscription &amp; Support Reinstatement 12 Months </td><td>D2607LL    </td></tr>\n",
       "<tr><td>IBM Analytics - Platform InfoSphere Optim Data Privacy for Unstructured Data Z Systems Annual Terabyte Annual SW Subscription &amp; Support Renewal 12 Months</td><td>E0QGNLL    </td></tr>\n",
       "<tr><td>IBM Analytics - Platform InfoSphere Optim Data Privacy for Unstructured Data Z Systems Annual Terabyte Monthly License                                   </td><td>D2609LL    </td></tr>\n",
       "</tbody>\n",
       "</table>\n",
       "\n",
       "<table>\n",
       "<tbody>\n",
       "<tr><td>Program identifier</td><td>License Information document title                     </td><td>License Information document number</td></tr>\n",
       "<tr><td>5737-L70          </td><td>IBM InfoSphere Optim Data Privacy for Unstructured Data</td><td>L-JERN-BFQ3KR                      </td></tr>\n",
       "</tbody>\n",
       "</table>\n",
       "\n"
      ],
      "text/plain": [
       "<IPython.core.display.Markdown object>"
      ]
     },
     "metadata": {},
     "output_type": "display_data"
    }
   ],
   "source": [
    "display(Markdown(markdown_output[4]))"
   ]
  }
 ],
 "metadata": {
  "kernelspec": {
   "display_name": "venv",
   "language": "python",
   "name": "python3"
  },
  "language_info": {
   "codemirror_mode": {
    "name": "ipython",
    "version": 3
   },
   "file_extension": ".py",
   "mimetype": "text/x-python",
   "name": "python",
   "nbconvert_exporter": "python",
   "pygments_lexer": "ipython3",
   "version": "3.12.3"
  }
 },
 "nbformat": 4,
 "nbformat_minor": 2
}
