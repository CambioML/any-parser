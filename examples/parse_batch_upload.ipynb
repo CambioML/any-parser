{
 "cells": [
  {
   "cell_type": "markdown",
   "metadata": {},
   "source": [
    "### Batch API Folder Processing Upload Example"
   ]
  },
  {
   "cell_type": "code",
   "execution_count": 2,
   "metadata": {},
   "outputs": [],
   "source": [
    "# Install the libraries (ipython is used for displaying markdown in this demo)\n",
    "# !pip3 install --upgrade ipython\n",
    "# !pip3 install --upgrade any-parser"
   ]
  },
  {
   "cell_type": "code",
   "execution_count": 3,
   "metadata": {},
   "outputs": [],
   "source": [
    "import json\n",
    "import os\n",
    "from datetime import datetime\n",
    "\n",
    "from dotenv import load_dotenv\n",
    "\n",
    "from any_parser import AnyParser"
   ]
  },
  {
   "cell_type": "code",
   "execution_count": 4,
   "metadata": {},
   "outputs": [],
   "source": [
    "# Load environment variables\n",
    "load_dotenv(override=True)\n",
    "\n",
    "# Get API key and create parser\n",
    "api_key = os.environ.get(\"CAMBIO_API_KEY\")\n",
    "if not api_key:\n",
    "    raise ValueError(\"CAMBIO_API_KEY is not set\")\n",
    "ap = AnyParser(api_key)"
   ]
  },
  {
   "cell_type": "markdown",
   "metadata": {},
   "source": [
    "Create Batch Request"
   ]
  },
  {
   "cell_type": "code",
   "execution_count": 5,
   "metadata": {},
   "outputs": [
    {
     "name": "stdout",
     "output_type": "stream",
     "text": [
      "Upload responses saved to: ./sample_data_20250102134950.jsonl\n"
     ]
    }
   ],
   "source": [
    "# Upload folder for batch processing\n",
    "WORKING_FOLDER = \"./sample_data\"\n",
    "responses = ap.batches.create(WORKING_FOLDER)\n",
    "\n",
    "# Save responses to JSONL file with timestamp\n",
    "timestamp = datetime.now().strftime(\"%Y%m%d%H%M%S\")\n",
    "output_file = f\"./sample_data_{timestamp}.jsonl\"\n",
    "\n",
    "with open(output_file, \"w\") as f:\n",
    "    for response in responses:\n",
    "        f.write(json.dumps(response.model_dump()) + \"\\n\")\n",
    "\n",
    "print(f\"Upload responses saved to: {output_file}\")"
   ]
  },
  {
   "cell_type": "markdown",
   "metadata": {},
   "source": [
    "Check the first element status in the jsonl using the requestId"
   ]
  },
  {
   "cell_type": "code",
   "execution_count": 11,
   "metadata": {},
   "outputs": [
    {
     "name": "stdout",
     "output_type": "stream",
     "text": [
      "Checking status for file: test3.pdf\n",
      "Content not yet available\n"
     ]
    }
   ],
   "source": [
    "# Get first response from the JSONL file\n",
    "with open(output_file, \"r\") as f:\n",
    "    first_response = json.loads(f.readline())\n",
    "\n",
    "request_id = first_response[\"requestId\"]\n",
    "print(f\"Checking status for file: {first_response['fileName']}\")\n",
    "\n",
    "# Retrieve status using request ID\n",
    "markdown = ap.batches.retrieve(request_id)\n",
    "if markdown and markdown.result:\n",
    "    print(\"Content retrieved successfully\")\n",
    "else:\n",
    "    print(\"Content not yet available\")"
   ]
  },
  {
   "cell_type": "markdown",
   "metadata": {},
   "source": [
    "Note: Batch extraction is currently in beta testing. Processing time may take up to 2 hours to complete."
   ]
  },
  {
   "cell_type": "markdown",
   "metadata": {},
   "source": [
    "After 2 hours, you can check the content of the first file in the folder again"
   ]
  },
  {
   "cell_type": "code",
   "execution_count": 14,
   "metadata": {},
   "outputs": [
    {
     "name": "stdout",
     "output_type": "stream",
     "text": [
      "Content retrieved successfully\n"
     ]
    }
   ],
   "source": [
    "# Retrieve status using request ID\n",
    "markdown = ap.batches.retrieve(request_id)\n",
    "if markdown and markdown.result:\n",
    "    print(\"Content retrieved successfully\")\n",
    "else:\n",
    "    print(\"Content not yet available\")"
   ]
  },
  {
   "cell_type": "markdown",
   "metadata": {},
   "source": [
    "After the job is completed, refer to examples/parse_batch_fetch.ipynb to fetch all responses in the jsonl file:\n",
    "\n",
    "https://github.com/CambioML/any-parser/blob/main/examples/parse_batch_fetch.ipynb\n"
   ]
  },
  {
   "cell_type": "markdown",
   "metadata": {},
   "source": [
    "## End of the notebook\n",
    "\n",
    "Check more [case studies](https://www.cambioml.com/blog) of CambioML!\n",
    "\n",
    "<a href=\"https://www.cambioml.com/\" title=\"Title\">\n",
    "    <img src=\"./sample_data/cambioml_logo_large.png\" style=\"height: 100px; display: block; margin-left: auto; margin-right: auto;\"/>\n",
    "</a>"
   ]
  }
 ],
 "metadata": {
  "kernelspec": {
   "display_name": "base",
   "language": "python",
   "name": "python3"
  },
  "language_info": {
   "codemirror_mode": {
    "name": "ipython",
    "version": 3
   },
   "file_extension": ".py",
   "mimetype": "text/x-python",
   "name": "python",
   "nbconvert_exporter": "python",
   "pygments_lexer": "ipython3",
   "version": "3.10.15"
  }
 },
 "nbformat": 4,
 "nbformat_minor": 2
}
