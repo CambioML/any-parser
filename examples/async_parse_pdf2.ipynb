{
 "cells": [
  {
   "cell_type": "code",
   "execution_count": 1,
   "metadata": {},
   "outputs": [],
   "source": [
    "# Install the libraries (ipython is used for displaying markdown in this demo)\n",
    "# !pip3 install --upgrade ipython\n",
    "# !pip3 install --upgrade any-parser"
   ]
  },
  {
   "cell_type": "code",
   "execution_count": 2,
   "metadata": {},
   "outputs": [],
   "source": [
    "from IPython.display import display, Markdown\n",
    "from any_parser import AnyParser\n",
    "import os\n",
    "from dotenv import load_dotenv"
   ]
  },
  {
   "cell_type": "code",
   "execution_count": 3,
   "metadata": {},
   "outputs": [],
   "source": [
    "load_dotenv(override=True)\n",
    "example_apikey = os.getenv(\"CAMBIO_API_KEY\")"
   ]
  },
  {
   "cell_type": "code",
   "execution_count": 4,
   "metadata": {},
   "outputs": [],
   "source": [
    "ap = AnyParser(example_apikey)\n",
    "\n",
    "# Define extract_args as a dictionary with your desired parameters\n",
    "extract_args = {\n",
    "    \"vqa_figures_flag\": True,\n",
    "    \"vqa_charts_flag\": True\n",
    "}\n",
    "\n",
    "file_id = ap.async_parse(file_path=\"./sample_data/Earnings-Presentation-Q2-2024.pdf\", extract_args=extract_args)"
   ]
  },
  {
   "cell_type": "code",
   "execution_count": 5,
   "metadata": {},
   "outputs": [
    {
     "name": "stdout",
     "output_type": "stream",
     "text": [
      "Waiting for response...\n",
      "Waiting for response...\n",
      "Waiting for response...\n",
      "Waiting for response...\n",
      "Waiting for response...\n"
     ]
    }
   ],
   "source": [
    "markdown_output = ap.async_fetch(file_id=file_id)"
   ]
  },
  {
   "cell_type": "code",
   "execution_count": 7,
   "metadata": {},
   "outputs": [
    {
     "data": {
      "text/markdown": [
       "Meta Earnings Presentation Q2 2024 \n",
       "\n",
       "investor.fb.com\n",
       "\n",
       " Meta logo, consisting of an infinity symbol followed by the text \"Meta\"\n",
       "\n",
       "Revenue by User Geography  Meta logo  \n",
       "\n",
       "In Millions\n",
       "\n",
       " \n",
       "| Quarter | US & Canada | Europe | Asia-Pacific | Rest of World | Total |\n",
       "|---|---|---|---|---|---|\n",
       "| Q2'24 | 16,847 | 9,300 | 7,888 | 5,036 | 39,071 |\n",
       "| Q1'24 | 15,824 | 8,483 | 7,481 | 4,667 | 36,455 |\n",
       "| Q4'23 | 18,585 | 9,441 | 7,512 | 4,573 | 40,111 |\n",
       "| Q3'23 | 15,190 | 7,777 | 6,928 | 4,251 | 34,146 |\n",
       "| Q2'23 | 14,422 | 7,323 | 6,515 | 3,739 | 31,999 |\n",
       "| Q1'23 | 13,048 | 6,345 | 5,960 | 3,292 | 28,645 |\n",
       "| Q4'22 | 15,636 | 7,050 | 6,050 | 3,429 | 32,165 |\n",
       "| Q3'22 | 13,035 | 5,797 | 5,782 | 3,100 | 27,714 |\n",
       "| Q2'22 | 13,249 | 6,452 | 5,797 | 3,213 | 28,822 |\n",
       "\n",
       "This stacked bar chart shows the revenue by user geography for Meta from Q2'22 to Q2'24. The revenue is divided into four categories: US & Canada, Europe, Asia-Pacific, and Rest of World. The total revenue for each quarter is shown at the top of each bar.\n",
       " \n",
       "\n",
       "Our revenue by user geography is geographically apportioned based on our estimation of the geographic location of our users when they perform a revenue-generating activity. This allocation differs from our revenue disaggregated by geography disclosure in our condensed consolidated financial statements where revenue is geographically apportioned based on the addresses of our customers.\n",
       "\n",
       " 3\n",
       "\n",
       "Segment Results  Meta logo  \n",
       "\n",
       "In Millions\n",
       "\n",
       " \n",
       "|  | Q2'22 | Q3'22 | Q4'22 | Q1'23 | Q2'23 | Q3'23 | Q4'23 | Q1'24 | Q2'24 |\n",
       "|---|---|---|---|---|---|---|---|---|---|\n",
       "| Advertising | $ 28,152 | $ 27,237 | $ 31,254 | $ 28,101 | $ 31,498 | $ 33,643 | $ 38,706 | $ 35,635 | $ 38,329 |\n",
       "| Other | 218 | 192 | 184 | 205 | 225 | 293 | 334 | 380 | 389 |\n",
       "| Family of Apps Revenue | 28,370 | 27,429 | 31,438 | 28,306 | 31,723 | 33,936 | 39,040 | 36,015 | 38,718 |\n",
       "| Reality Labs Revenue | 452 | 285 | 727 | 339 | 276 | 210 | 1,071 | 440 | 353 |\n",
       "| Total Revenue | $ 28,822 | $ 27,714 | $ 32,165 | $ 28,645 | $ 31,999 | $ 34,146 | $ 40,111 | $ 36,455 | $ 39,071 |\n",
       "| Family of Apps Operating Income | $ 11,164 | $ 9,336 | $ 10,678 | $ 11,219 | $ 13,131 | $ 17,490 | $ 21,030 | $ 17,664 | $ 19,335 |\n",
       "| Reality Labs Operating (Loss) | (2,806) | (3,672) | (4,279) | (3,992) | (3,739) | (3,742) | (4,646) | (3,846) | (4,488) |\n",
       "| Total Income from Operations | $ 8,358 | $ 5,664 | $ 6,399 | $ 7,227 | $ 9,392 | $ 13,748 | $ 16,384 | $ 13,818 | $ 14,847 |\n",
       "| Operating Margin | 29% | 20% | 20% | 25% | 29% | 40% | 41% | 38% | 38% |\n",
       " \n",
       "\n",
       "We report our financial results based on two reportable segments: Family of Apps (FoA) and Reality Labs (RL). FoA includes Facebook, Instagram, Messenger, WhatsApp, and other services. RL includes our virtual, augmented, and mixed reality related consumer hardware, software, and content.\n",
       "\n",
       " 4\n",
       "\n",
       "Net Income  Meta logo  \n",
       "\n",
       "In Millions\n",
       "\n",
       " \n",
       "| Quarter | Net Income |\n",
       "|---|---|\n",
       "| Q2'22 | $6,687 |\n",
       "| Q3'22 | $4,395 |\n",
       "| Q4'22 | $4,652 |\n",
       "| Q1'23 | $5,709 |\n",
       "| Q2'23 | $7,788 |\n",
       "| Q3'23 | $11,583 |\n",
       "| Q4'23 | $14,017 |\n",
       "| Q1'24 | $12,369 |\n",
       "| Q2'24 | $13,465 |\n",
       "\n",
       "This bar chart shows the Net Income in millions for Meta from Q2'22 to Q2'24. The y-axis ranges from $0 to $14,017 million, with increments of $1,000 million. The highest net income was $14,017 million in Q4'23, while the lowest was $4,395 million in Q3'22.\n",
       " \n",
       "\n",
       " 7\n",
       "\n",
       "Diluted Earnings Per Share  Meta logo  \n",
       "\n",
       " \n",
       "| Quarter | Earnings Per Share |\n",
       "|---|---|\n",
       "| Q2'22 | $2.46 |\n",
       "| Q3'22 | $1.64 |\n",
       "| Q4'22 | $1.76 |\n",
       "| Q1'23 | $2.20 |\n",
       "| Q2'23 | $2.98 |\n",
       "| Q3'23 | $4.39 |\n",
       "| Q4'23 | $5.33 |\n",
       "| Q1'24 | $4.71 |\n",
       "| Q2'24 | $5.16 |\n",
       "\n",
       "This bar chart shows the Diluted Earnings Per Share for Meta from Q2'22 to Q2'24. The y-axis ranges from $1.64 to $5.33, with increments of $0.02. The chart demonstrates an overall increasing trend in earnings per share over the period, with the highest point in Q4'23 at $5.33 and the lowest in Q3'22 at $1.64.\n",
       " \n",
       "\n",
       " 8\n",
       "\n",
       "Limitations of Key Metrics and Other Data  Meta logo  \n",
       "\n",
       "To calculate our estimates of DAP, we currently use a series of machine learning models that are developed based on internal reviews of limited samples of user accounts and calibrated against user survey data. We apply significant judgment in designing these models and calculating these estimates. For example, to match user accounts within individual products and across multiple products, we use data signals such as similar device information, IP addresses, and user names. We also calibrate our models against data from periodic user surveys of varying sizes and frequency across our products, which survey questions are based on monthly usage, and which are inherently subject to error. The timing and results of such user surveys have in the past contributed, and may in the future contribute, to changes in our reported Family metrics from period to period. In addition, our data limitations may affect our understanding of certain details of our business and increase the risk of error for our Family metrics estimates. Our techniques and models rely on a variety of data signals from different products, and we rely on more limited data signals for some products compared to others. For example, as a result of limited visibility into encrypted products, we have fewer data signals from WhatsApp user accounts and primarily rely on phone numbers and device information to match WhatsApp user accounts with accounts on our other products. Any loss of access to data signals we use in our process for calculating Family metrics, whether as a result of our own product decisions, actions by third-party browser or mobile platforms, regulatory or legislative requirements, or other factors, also may impact the stability or accuracy of our reported Family metrics, as well as our ability to report these metrics at all. Our estimates of Family metrics also may change as our methodologies evolve, including through the application of new data signals or technologies, product changes, or other improvements in our user surveys, algorithms, or machine learning that may improve our ability to match accounts within and across our products or otherwise evaluate the broad population of our users. In addition, such evolution may allow us to identify previously undetected violating accounts (as defined below).\n",
       "\n",
       "We regularly evaluate our Family metrics to estimate the percentage of our DAP consisting solely of \"violating\" accounts. We define \"violating\" accounts as accounts which we believe are intended to be used for purposes that violate our terms of service, including bots and spam. In the first quarter of 2024, we estimated that less than 3% of our worldwide DAP consisted solely of violating accounts. Such estimation is based on an internal review of a limited sample of accounts, and we apply significant judgment in making this determination. For example, we look for account information and behaviors associated with Facebook and Instagram accounts that appear to be inauthentic to the reviewers, but we have limited visibility into WhatsApp user activity due to encryption. In addition, if we believe an individual person has one or more violating accounts, we do not include such person in our violating accounts estimation as long as we believe they have one account that does not constitute a violating account. From time to time, we disable certain user accounts, make product changes, or take other actions to reduce the number of violating accounts among our users, which may also reduce our DAP estimates in a particular period. We intend to disclose our estimates of the percentage of our DAP consisting solely of violating accounts on an annual basis. Violating accounts are very difficult to measure at our scale, and it is possible that the actual number of violating accounts may vary significantly from our estimates.\n",
       "\n",
       "## User Geography\n",
       "\n",
       "Our estimates for revenue by user location, as well as year-over-year percentage changes in ad impressions delivered and the average price per ad by user location, are also affected by data limitations and other challenges in measuring user geography. Our data regarding the geographic location of our users is estimated based on a number of factors, such as the user's IP address and self-disclosed location. These factors may not always accurately reflect the user's actual location. For example, a user may appear to be accessing our products from the location of the proxy server that the user connects to rather than from the user's actual location. The methodologies used to measure our metrics are also susceptible to algorithm or other technical errors.\n",
       "\n",
       " 17"
      ],
      "text/plain": [
       "<IPython.core.display.Markdown object>"
      ]
     },
     "metadata": {},
     "output_type": "display_data"
    }
   ],
   "source": [
    "# Join the list elements with newlines to create a single string\n",
    "markdown_text = '\\n\\n'.join(markdown_output)\n",
    "display(Markdown(markdown_text))"
   ]
  }
 ],
 "metadata": {
  "kernelspec": {
   "display_name": "any",
   "language": "python",
   "name": "python3"
  },
  "language_info": {
   "codemirror_mode": {
    "name": "ipython",
    "version": 3
   },
   "file_extension": ".py",
   "mimetype": "text/x-python",
   "name": "python",
   "nbconvert_exporter": "python",
   "pygments_lexer": "ipython3",
   "version": "3.10.15"
  }
 },
 "nbformat": 4,
 "nbformat_minor": 2
}
