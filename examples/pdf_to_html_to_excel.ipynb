{
 "cells": [
  {
   "cell_type": "markdown",
   "metadata": {},
   "source": [
    "# Extract a Table from PDF into Excel\n",
    "\n",
    "Below it's an example of using AnyParser to extract a complicated table from a financial report (PDF) into Excel spread sheet. The sample data is from https://gaming.nv.gov/about/gaming-revenue/information/\n",
    "\n",
    "\n",
    "## 1. Load the libraries\n",
    "\n",
    "If you have install `any_parser`, uncomment the below line."
   ]
  },
  {
   "cell_type": "code",
   "execution_count": 1,
   "metadata": {},
   "outputs": [],
   "source": [
    "# !pip3 install python-dotenv\n",
    "# !pip3 install --upgrade any-parser\n",
    "# !pip3 install openpyxl"
   ]
  },
  {
   "cell_type": "markdown",
   "metadata": {},
   "source": [
    "## 2. Import and update path"
   ]
  },
  {
   "cell_type": "code",
   "execution_count": 2,
   "metadata": {},
   "outputs": [],
   "source": [
    "import os\n",
    "import pandas as pd\n",
    "\n",
    "from dotenv import load_dotenv\n",
    "from any_parser import AnyParser\n",
    "from IPython.display import HTML, display"
   ]
  },
  {
   "cell_type": "markdown",
   "metadata": {},
   "source": [
    "## 3. Load Your API Key and Initialize AnyParser"
   ]
  },
  {
   "cell_type": "code",
   "execution_count": 3,
   "metadata": {},
   "outputs": [],
   "source": [
    "load_dotenv(override=True)\n",
    "example_apikey = os.getenv(\"CAMBIO_API_KEY\")\n",
    "\n",
    "op = AnyParser(example_apikey)"
   ]
  },
  {
   "cell_type": "markdown",
   "metadata": {},
   "source": [
    "## 4. Helper function: Convert HTML to Excel"
   ]
  },
  {
   "cell_type": "code",
   "execution_count": 4,
   "metadata": {},
   "outputs": [],
   "source": [
    "import os\n",
    "from bs4 import BeautifulSoup\n",
    "import pandas as pd\n",
    "from io import StringIO\n",
    "\n",
    "\n",
    "def html_to_excel(html_string, output_folder, output_filename):\n",
    "    if not os.path.exists(output_folder):\n",
    "        os.makedirs(output_folder)\n",
    "\n",
    "    soup = BeautifulSoup(html_string, 'html.parser')\n",
    "\n",
    "    tables = soup.find_all('table')\n",
    "\n",
    "    dfs = {}\n",
    "    for i, table in enumerate(tables):\n",
    "        dfs[f\"Table_{i+1}\"] = pd.read_html(StringIO(str(table)))[0]\n",
    "\n",
    "    output_file = os.path.join(output_folder, output_filename)\n",
    "    with pd.ExcelWriter(output_file) as writer:\n",
    "        for name, df in dfs.items():\n",
    "            df.to_excel(writer, sheet_name=name, index=False)\n",
    "\n",
    "    print(f\"Excel file saved to {output_file}\")\n"
   ]
  },
  {
   "cell_type": "markdown",
   "metadata": {},
   "source": [
    "## 5. Parse into HTML and Excel\n",
    "\n",
    "### 5.1 sample: March_2024 page 8"
   ]
  },
  {
   "cell_type": "code",
   "execution_count": 5,
   "metadata": {},
   "outputs": [
    {
     "data": {
      "text/html": [
       "<table>\n",
       "<tbody>\n",
       "<tr><td>Summary                 </td><td>         </td><td>          </td><td>Current Month</td><td>- March-2024</td><td>           </td><td>         </td><td>Three    </td><td>Months -    </td><td>1/1/2024 to 3/31/2024</td><td>           </td><td>         </td><td>Twelve   </td><td>Months -    </td><td>4/1/2023 to</td><td>3/31/2024  </td></tr>\n",
       "<tr><td>                        </td><td>         </td><td>Number    </td><td>of Reporting </td><td>Licensees - </td><td>22         </td><td>         </td><td>Number   </td><td>of Reporting</td><td>Licensees - 23       </td><td>           </td><td>         </td><td>Number   </td><td>of Reporting</td><td>Licensees -</td><td>24         </td></tr>\n",
       "<tr><td>Unit Description        </td><td># Of Loc*</td><td># Of Units</td><td>Win** Amount </td><td>% Chg       </td><td>Win Percent</td><td># Of Loc*</td><td>Avg Units</td><td>Win** Amount</td><td>% Chg                </td><td>Win Percent</td><td># Of Loc*</td><td>Avg Units</td><td>Win** Amount</td><td>% Chg      </td><td>Win Percent</td></tr>\n",
       "<tr><td>Table, Counter and Card </td><td>Games    </td><td>          </td><td>             </td><td>            </td><td>           </td><td>         </td><td>         </td><td>            </td><td>                     </td><td>           </td><td>         </td><td>         </td><td>            </td><td>           </td><td>           </td></tr>\n",
       "<tr><td>Twenty One              </td><td>13       </td><td>212       </td><td>6,746        </td><td>(9.94)      </td><td>14.44      </td><td>13       </td><td>207      </td><td>17,527      </td><td>(12.25)              </td><td>14.31      </td><td>13       </td><td>205      </td><td>65,917      </td><td>(1.80)     </td><td>15.09      </td></tr>\n",
       "<tr><td>Craps                   </td><td>12       </td><td>36        </td><td>2,771        </td><td>(3.34)      </td><td>13.24      </td><td>13       </td><td>35       </td><td>7,538       </td><td>(14.01)              </td><td>13.48      </td><td>13       </td><td>35       </td><td>29,633      </td><td>(10.80)    </td><td>13.68      </td></tr>\n",
       "<tr><td>Roulette                </td><td>12       </td><td>37        </td><td>2,268        </td><td>4.14        </td><td>20.70      </td><td>12       </td><td>36       </td><td>5,985       </td><td>3.30                 </td><td>20.65      </td><td>12       </td><td>36       </td><td>21,031      </td><td>1.09       </td><td>19.75      </td></tr>\n",
       "<tr><td>Ultim Texas Hold&#x27;em     </td><td>6        </td><td>10        </td><td>932          </td><td>15.76       </td><td>27.40      </td><td>6        </td><td>10       </td><td>2,533       </td><td>12.78                </td><td>27.55      </td><td>7        </td><td>9        </td><td>8,611       </td><td>25.64      </td><td>25.39      </td></tr>\n",
       "<tr><td>3-Card Poker            </td><td>13       </td><td>17        </td><td>1,068        </td><td>(15.43)     </td><td>27.19      </td><td>13       </td><td>17       </td><td>2,950       </td><td>(16.27)              </td><td>27.67      </td><td>13       </td><td>17       </td><td>10,689      </td><td>(12.46)    </td><td>26.77      </td></tr>\n",
       "<tr><td>Mini-Baccarat           </td><td>4        </td><td>10        </td><td>125          </td><td>(79.47)     </td><td>2.08       </td><td>4        </td><td>10       </td><td>1,329       </td><td>(54.94)              </td><td>7.14       </td><td>4        </td><td>11       </td><td>7,866       </td><td>(38.08)    </td><td>8.05       </td></tr>\n",
       "<tr><td>Keno                    </td><td>3        </td><td>3         </td><td>114          </td><td>(27.92)     </td><td>23.39      </td><td>3        </td><td>3        </td><td>368         </td><td>(23.18)              </td><td>22.70      </td><td>3        </td><td>3        </td><td>1,721       </td><td>(14.16)    </td><td>26.67      </td></tr>\n",
       "<tr><td>Let It Ride             </td><td>7        </td><td>8         </td><td>368          </td><td>13.77       </td><td>23.97      </td><td>7        </td><td>8        </td><td>862         </td><td>(14.96)              </td><td>20.82      </td><td>7        </td><td>7        </td><td>3,672       </td><td>(16.19)    </td><td>23.17      </td></tr>\n",
       "<tr><td>Pai Gow Poker           </td><td>8        </td><td>10        </td><td>35           </td><td>(92.74)     </td><td>1.45       </td><td>8        </td><td>10       </td><td>1,123       </td><td>(21.99)              </td><td>15.71      </td><td>9        </td><td>10       </td><td>5,280       </td><td>19.80      </td><td>18,91      </td></tr>\n",
       "<tr><td>Race Book (1)           </td><td>10       </td><td>10        </td><td>39           </td><td>(21.56)     </td><td>16.04      </td><td>11       </td><td>10       </td><td>110         </td><td>(8.99)               </td><td>16.45      </td><td>12       </td><td>9        </td><td>529         </td><td>(15.59)    </td><td>8.56       </td></tr>\n",
       "<tr><td>Sports Pool (2)         </td><td>13       </td><td>13        </td><td>10,330       </td><td>(15.80)     </td><td>5.17       </td><td>13       </td><td>13       </td><td>37,703      </td><td>31.82                </td><td>6.31       </td><td>13       </td><td>13       </td><td>119,348     </td><td>5.20       </td><td>5.31       </td></tr>\n",
       "<tr><td>Other                   </td><td>         </td><td>31        </td><td>1,342        </td><td>(12.47)     </td><td>24.55      </td><td>         </td><td>31       </td><td>4,013       </td><td>(12.35)              </td><td>27.17      </td><td>         </td><td>30       </td><td>16,861      </td><td>2,36       </td><td>29.26      </td></tr>\n",
       "<tr><td>Total                   </td><td>20       </td><td>397       </td><td>26,137       </td><td>(12.94)     </td><td>8.65       </td><td>20       </td><td>390      </td><td>82,041      </td><td>3.22                 </td><td>9.41       </td><td>20       </td><td>385      </td><td>291,158     </td><td>(1.05)     </td><td>8.84       </td></tr>\n",
       "<tr><td>Slot Machines           </td><td>         </td><td>          </td><td>             </td><td>            </td><td>           </td><td>         </td><td>         </td><td>            </td><td>                     </td><td>           </td><td>         </td><td>         </td><td>            </td><td>           </td><td>           </td></tr>\n",
       "<tr><td>1 Cent                  </td><td>15       </td><td>3,594     </td><td>16,156       </td><td>(29.61)     </td><td>10.15      </td><td>15       </td><td>3,734    </td><td>49,169      </td><td>(27.00)              </td><td>11.26      </td><td>17       </td><td>4,039    </td><td>215,449     </td><td>(17.77)    </td><td>11.02      </td></tr>\n",
       "<tr><td>5 Cent                  </td><td>11       </td><td>89        </td><td>298          </td><td>(6.80)      </td><td>8.39       </td><td>11       </td><td>87       </td><td>792         </td><td>(12.84)              </td><td>7.83       </td><td>11       </td><td>90       </td><td>3,142       </td><td>(6.65)     </td><td>7.45       </td></tr>\n",
       "<tr><td>25 Cent                 </td><td>13       </td><td>522       </td><td>2,127        </td><td>(26.73)     </td><td>6.67       </td><td>13       </td><td>538      </td><td>6,602       </td><td>(23.91)              </td><td>7.32       </td><td>13       </td><td>555      </td><td>27,931      </td><td>(14.69)    </td><td>7.23       </td></tr>\n",
       "<tr><td>1 Dollar                </td><td>13       </td><td>639       </td><td>3,674        </td><td>(32.45)     </td><td>5.78       </td><td>13       </td><td>658      </td><td>11,940      </td><td>(19.00)              </td><td>6.64       </td><td>13       </td><td>671      </td><td>47,908      </td><td>(14.14)    </td><td>6.48       </td></tr>\n",
       "<tr><td>5 Dollars               </td><td>11       </td><td>56        </td><td>429          </td><td>(41.91)     </td><td>6.32       </td><td>11       </td><td>55       </td><td>1,788       </td><td>(18.58)              </td><td>8.97       </td><td>12       </td><td>57       </td><td>6,805       </td><td>(17.65)    </td><td>7.72       </td></tr>\n",
       "<tr><td>25 Dollars              </td><td>4        </td><td>7         </td><td>43           </td><td>(695.28)    </td><td>10.56      </td><td>4        </td><td>7        </td><td>162         </td><td>25.57                </td><td>11.55      </td><td>4        </td><td>6        </td><td>552         </td><td>49.73      </td><td>8.85       </td></tr>\n",
       "<tr><td>100 Dollars             </td><td>3        </td><td>5         </td><td>92           </td><td>(73.91)     </td><td>8.24       </td><td>3        </td><td>5        </td><td>337         </td><td>(43.21)              </td><td>9,01       </td><td>3        </td><td>5        </td><td>1,375       </td><td>(21.01)    </td><td>7.86       </td></tr>\n",
       "<tr><td>Multi Denomination      </td><td>16       </td><td>5,170     </td><td>26,827       </td><td>11.16       </td><td>6.84       </td><td>17       </td><td>5,011    </td><td>84,117      </td><td>18.79                </td><td>7.97       </td><td>17       </td><td>4,640    </td><td>301,461     </td><td>26.24      </td><td>7.66       </td></tr>\n",
       "<tr><td>Other                   </td><td>         </td><td>52        </td><td>416          </td><td>(28.22)     </td><td>           </td><td>         </td><td>53       </td><td>1,220       </td><td>(24.92)              </td><td>           </td><td>         </td><td>61       </td><td>5,436       </td><td>(11.07)    </td><td>           </td></tr>\n",
       "<tr><td>Total                   </td><td>16       </td><td>10,134    </td><td>50,061       </td><td>(12.80)     </td><td>7.55       </td><td>17       </td><td>10,148   </td><td>156,128     </td><td>(6.53)               </td><td>8.63       </td><td>18       </td><td>10,124   </td><td>610,059     </td><td>0.14       </td><td>8.44       </td></tr>\n",
       "<tr><td>Total Gaming            </td><td>         </td><td>          </td><td>76,199       </td><td>(12.85)     </td><td>           </td><td>         </td><td>         </td><td>238,168     </td><td>(3.39)               </td><td>           </td><td>         </td><td>         </td><td>901,217     </td><td>(0.25)     </td><td>           </td></tr>\n",
       "<tr><td>(1) Race Book Parimutuel</td><td>3        </td><td>3         </td><td>39           </td><td>(19.97)     </td><td>16.55      </td><td>4        </td><td>4        </td><td>111         </td><td>(8.34)               </td><td>16.64      </td><td>5        </td><td>5        </td><td>513         </td><td>(12.78)    </td><td>16.03      </td></tr>\n",
       "<tr><td>Sports Mobile           </td><td>5        </td><td>          </td><td>9,970        </td><td>(10.82)     </td><td>5.62       </td><td>6        </td><td>         </td><td>32,930      </td><td>23.38                </td><td>6.22       </td><td>6        </td><td>         </td><td>104,473     </td><td>5.65       </td><td>5.07       </td></tr>\n",
       "<tr><td>(2) Sports Football     </td><td>9        </td><td>9         </td><td>(957)        </td><td>(2.80)      </td><td>(1,168.50) </td><td>13       </td><td>13       </td><td>8,527       </td><td>204.02               </td><td>7.74       </td><td>13       </td><td>13       </td><td>36,108      </td><td>14.16      </td><td>5.46       </td></tr>\n",
       "<tr><td>Sports Basketball       </td><td>13       </td><td>13        </td><td>8,097        </td><td>(17.42)     </td><td>5.61       </td><td>13       </td><td>13       </td><td>19,155      </td><td>7.14                 </td><td>5.45       </td><td>13       </td><td>13       </td><td>37,142      </td><td>3.37       </td><td>5.56       </td></tr>\n",
       "<tr><td>Sports Baseball         </td><td>13       </td><td>13        </td><td>184          </td><td>(46.24)     </td><td>1.87       </td><td>13       </td><td>13       </td><td>(175)       </td><td>(181.64)             </td><td>(1.67)     </td><td>13       </td><td>13       </td><td>19,839      </td><td>(11.04)    </td><td>4.23       </td></tr>\n",
       "<tr><td>Sports Parlay Cards     </td><td>3        </td><td>3         </td><td>1            </td><td>(93.65)     </td><td>24.34      </td><td>10       </td><td>10       </td><td>35          </td><td>(81.99)              </td><td>41.68      </td><td>12       </td><td>12       </td><td>308         </td><td>(78.52)    </td><td>31.55      </td></tr>\n",
       "<tr><td>Sports Hockey           </td><td>13       </td><td>13        </td><td>639          </td><td>(47.25)     </td><td>4.48       </td><td>13       </td><td>13       </td><td>3,035       </td><td>(0.92)               </td><td>7.98       </td><td>13       </td><td>13       </td><td>4,700       </td><td>(36.73)    </td><td>3.92       </td></tr>\n",
       "<tr><td>Other                   </td><td>         </td><td>13        </td><td>2,367        </td><td>25.73       </td><td>7.51       </td><td>         </td><td>13       </td><td>7,127       </td><td>60.19                </td><td>8.17       </td><td>         </td><td>13       </td><td>21,251      </td><td>44.36      </td><td>6.48       </td></tr>\n",
       "</tbody>\n",
       "</table>"
      ],
      "text/plain": [
       "<IPython.core.display.HTML object>"
      ]
     },
     "metadata": {},
     "output_type": "display_data"
    }
   ],
   "source": [
    "sample_input_folder = \"nevada_gaming_revenue_reports\"\n",
    "sample_page8 = \"Nevada_Gaming_Revenue_Report_(March_2024)_page8\"\n",
    "sample_page8_result = op.parse(\"./{}/{}.pdf\".format(sample_input_folder, sample_page8))\n",
    "\n",
    "display(HTML(sample_page8_result[0]))"
   ]
  },
  {
   "cell_type": "code",
   "execution_count": 6,
   "metadata": {},
   "outputs": [
    {
     "name": "stdout",
     "output_type": "stream",
     "text": [
      "Excel file saved to output/Nevada_Gaming_Revenue_Report_(March_2024)_page8.xlsx\n"
     ]
    }
   ],
   "source": [
    "output_folder = 'output'\n",
    "sample_page8_output = '{}.xlsx'.format(sample_page8)\n",
    "html_to_excel(sample_page8_result[0], output_folder, sample_page8_output)"
   ]
  },
  {
   "cell_type": "markdown",
   "metadata": {},
   "source": [
    "### 5.2 sample: March_2024 page 35"
   ]
  },
  {
   "cell_type": "code",
   "execution_count": 7,
   "metadata": {},
   "outputs": [
    {
     "data": {
      "text/html": [
       "<table>\n",
       "<tbody>\n",
       "<tr><td>Summary         </td><td>         </td><td>          </td><td>Current Month -</td><td>March-2024   </td><td>           </td><td>         </td><td>Three    </td><td>Months - 1/1/2024</td><td>to 3/31/2024 </td><td>           </td><td>         </td><td>Twelve   </td><td>Months - 4/1/2023</td><td>to 3/31/2024</td><td>           </td></tr>\n",
       "<tr><td>                </td><td>         </td><td>Number    </td><td>of Reporting   </td><td>Licensees - 5</td><td>           </td><td>         </td><td>Number   </td><td>of Reporting     </td><td>Licensees - 5</td><td>           </td><td>         </td><td>Number   </td><td>of Reporting     </td><td>Licensees - </td><td>5          </td></tr>\n",
       "<tr><td>Unit Description</td><td># Of Loc*</td><td># Of Units</td><td>Win** Amount   </td><td>% Chg        </td><td>Win Percent</td><td># Of Loc*</td><td>Avg Units</td><td>Win** Amount     </td><td>% Chg        </td><td>Win Percent</td><td># Of Loc*</td><td>Avg Units</td><td>Win** Amount     </td><td>% Chg       </td><td>Win Percent</td></tr>\n",
       "</tbody>\n",
       "</table>"
      ],
      "text/plain": [
       "<IPython.core.display.HTML object>"
      ]
     },
     "metadata": {},
     "output_type": "display_data"
    }
   ],
   "source": [
    "sample_page35 = \"Nevada_Gaming_Revenue_Report_(March_2024)_page35\"\n",
    "sample_page35_result = op.parse(\"./{}/{}.pdf\".format(sample_input_folder, sample_page35))\n",
    "\n",
    "\n",
    "display(HTML(sample_page35_result[0]))"
   ]
  },
  {
   "cell_type": "code",
   "execution_count": 8,
   "metadata": {},
   "outputs": [
    {
     "name": "stdout",
     "output_type": "stream",
     "text": [
      "Excel file saved to output/Nevada_Gaming_Revenue_Report_(March_2024)_page35.xlsx\n"
     ]
    }
   ],
   "source": [
    "output_folder = 'output'\n",
    "sample_page35_output = '{}.xlsx'.format(sample_page35)\n",
    "html_to_excel(sample_page35_result[0], output_folder, sample_page35_output)"
   ]
  },
  {
   "cell_type": "markdown",
   "metadata": {},
   "source": [
    "### 5.3 sample: March_2024 page 43"
   ]
  },
  {
   "cell_type": "code",
   "execution_count": 9,
   "metadata": {},
   "outputs": [
    {
     "data": {
      "text/html": [
       "<table>\n",
       "<tbody>\n",
       "<tr><td>Summary                </td><td>         </td><td>          </td><td>Current Month</td><td>- March-2024  </td><td>           </td><td>         </td><td>Three    </td><td>Months -    </td><td>1/1/2024 to 3/31/2024</td><td>           </td><td>         </td><td>Twelve   </td><td>Months -    </td><td>4/1/2023 to 3/31/2024</td><td>           </td></tr>\n",
       "<tr><td>                       </td><td>         </td><td>Number    </td><td>of Reporting </td><td>Licensees - 13</td><td>           </td><td>         </td><td>Number   </td><td>of Reporting</td><td>Licensees -          </td><td>13         </td><td>         </td><td>Number   </td><td>of Reporting</td><td>Licensees -          </td><td>13         </td></tr>\n",
       "<tr><td>Unit Description       </td><td># Of Loc*</td><td># Of Units</td><td>Win** Amount </td><td>% Chg         </td><td>Win Percent</td><td># Of Loc*</td><td>Avg Units</td><td>Win** Amount</td><td>% Chg                </td><td>Win Percent</td><td># Of Loc*</td><td>Avg Units</td><td>Win** Amount</td><td>% Chg                </td><td>Win Percent</td></tr>\n",
       "<tr><td>Table, Counter and Card</td><td>Games    </td><td>          </td><td>             </td><td>              </td><td>           </td><td>         </td><td>         </td><td>            </td><td>                     </td><td>           </td><td>         </td><td>         </td><td>            </td><td>                     </td><td>           </td></tr>\n",
       "<tr><td>Other                  </td><td>         </td><td>2         </td><td>6            </td><td>(35.98)       </td><td>38.17      </td><td>         </td><td>2        </td><td>19          </td><td>51.18                </td><td>37.22      </td><td>         </td><td>2        </td><td>41          </td><td>(25.01)              </td><td>26.35      </td></tr>\n",
       "<tr><td>Slot Machines          </td><td>         </td><td>          </td><td>             </td><td>              </td><td>           </td><td>         </td><td>         </td><td>            </td><td>                     </td><td>           </td><td>         </td><td>         </td><td>            </td><td>                     </td><td>           </td></tr>\n",
       "<tr><td>1 Cent                 </td><td>7        </td><td>224       </td><td>440          </td><td>(20.66)       </td><td>7.51       </td><td>7        </td><td>226      </td><td>1,303       </td><td>(17.26)              </td><td>7.76       </td><td>7        </td><td>233      </td><td>5,617       </td><td>(10.36)              </td><td>7.63       </td></tr>\n",
       "<tr><td>25 Cent                </td><td>4        </td><td>6         </td><td>8            </td><td>51.28         </td><td>10.82      </td><td>4        </td><td>6        </td><td>29          </td><td>47.38                </td><td>13.79      </td><td>4        </td><td>6        </td><td>134         </td><td>25.40                </td><td>13.48      </td></tr>\n",
       "<tr><td>1 Dollar               </td><td>4        </td><td>9         </td><td>5            </td><td>(64.87)       </td><td>2.76       </td><td>4        </td><td>9        </td><td>30          </td><td>(24.33)              </td><td>4.47       </td><td>4        </td><td>9        </td><td>161         </td><td>4.16                 </td><td>5.11       </td></tr>\n",
       "<tr><td>Multi Denomination     </td><td>12       </td><td>499       </td><td>916          </td><td>7.88          </td><td>7.06       </td><td>12       </td><td>499      </td><td>2,549       </td><td>3.84                 </td><td>6.79       </td><td>12       </td><td>488      </td><td>10,675      </td><td>7.20                 </td><td>6.79       </td></tr>\n",
       "<tr><td>Other                  </td><td>         </td><td>          </td><td>0            </td><td>(34.95)       </td><td>           </td><td>         </td><td>         </td><td>(1)         </td><td>(47.76)              </td><td>           </td><td>         </td><td>         </td><td>(6)         </td><td>(29.00)              </td><td>           </td></tr>\n",
       "<tr><td>Total                  </td><td>12       </td><td>738       </td><td>1,369        </td><td>(3.79)        </td><td>7.17       </td><td>12       </td><td>740      </td><td>3,909       </td><td>(4.32)               </td><td>7.08       </td><td>12       </td><td>736      </td><td>16,581      </td><td>0.63                 </td><td>7.06       </td></tr>\n",
       "<tr><td>Total Gaming           </td><td>         </td><td>          </td><td>1,375        </td><td>(4.00)        </td><td>           </td><td>         </td><td>         </td><td>3,928       </td><td>(4.16)               </td><td>           </td><td>         </td><td>         </td><td>16,622      </td><td>0.55                 </td><td>           </td></tr>\n",
       "</tbody>\n",
       "</table>"
      ],
      "text/plain": [
       "<IPython.core.display.HTML object>"
      ]
     },
     "metadata": {},
     "output_type": "display_data"
    }
   ],
   "source": [
    "sample_page43 = \"Nevada_Gaming_Revenue_Report_(March_2024)_page43\"\n",
    "sample_page43_result = op.parse(\"./{}/{}.pdf\".format(sample_input_folder, sample_page43))\n",
    "\n",
    "display(HTML(sample_page43_result[0]))"
   ]
  },
  {
   "cell_type": "code",
   "execution_count": 10,
   "metadata": {},
   "outputs": [
    {
     "name": "stdout",
     "output_type": "stream",
     "text": [
      "Excel file saved to output/Nevada_Gaming_Revenue_Report_(March_2024)_page43.xlsx\n"
     ]
    }
   ],
   "source": [
    "output_folder = 'output'\n",
    "sample_page43_output = '{}.xlsx'.format(sample_page43)\n",
    "html_to_excel(sample_page43_result[0], output_folder, sample_page43_output)"
   ]
  },
  {
   "cell_type": "markdown",
   "metadata": {},
   "source": [
    "## End of the notebook\n",
    "\n",
    "Check more [case studies](https://www.cambioml.com/blog) of CambioML!\n",
    "\n",
    "<a href=\"https://www.cambioml.com/\" title=\"Title\">\n",
    "    <img src=\"../examples//sample_data/cambioml_logo_large.png\" style=\"height: 100px; display: block; margin-left: auto; margin-right: auto;\"/>\n",
    "</a>"
   ]
  }
 ],
 "metadata": {
  "kernelspec": {
   "display_name": "open-parser",
   "language": "python",
   "name": "python3"
  },
  "language_info": {
   "codemirror_mode": {
    "name": "ipython",
    "version": 3
   },
   "file_extension": ".py",
   "mimetype": "text/x-python",
   "name": "python",
   "nbconvert_exporter": "python",
   "pygments_lexer": "ipython3",
   "version": "3.10.14"
  }
 },
 "nbformat": 4,
 "nbformat_minor": 2
}
