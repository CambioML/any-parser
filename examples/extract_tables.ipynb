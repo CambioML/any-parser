{
 "cells": [
  {
   "cell_type": "code",
   "execution_count": null,
   "metadata": {},
   "outputs": [],
   "source": [
    "# Install the libraries (ipython is used for displaying markdown in this demo)\n",
    "# !pip3 install --upgrade ipython\n",
    "# !pip3 install --upgrade any-parser"
   ]
  },
  {
   "cell_type": "code",
   "execution_count": 62,
   "metadata": {},
   "outputs": [],
   "source": [
    "from IPython.display import display, Markdown\n",
    "\n",
    "# from any_parser import AnyParser\n",
    "import sys\n",
    "import importlib\n",
    "\n",
    "\n",
    "sys.path.append(\"..\")\n",
    "import any_parser.any_parser\n",
    "\n",
    "importlib.reload(any_parser.any_parser)\n",
    "from any_parser.any_parser import AnyParser"
   ]
  },
  {
   "cell_type": "code",
   "execution_count": 63,
   "metadata": {},
   "outputs": [],
   "source": [
    "ap = AnyParser(api_key=\"key\")"
   ]
  },
  {
   "cell_type": "code",
   "execution_count": 64,
   "metadata": {},
   "outputs": [
    {
     "name": "stderr",
     "output_type": "stream",
     "text": [
      "/home/ubuntu/any-parser/examples/../any_parser/any_parser.py:232: FutureWarning: Passing literal html to 'read_html' is deprecated and will be removed in a future version. To read from a literal string, wrap it in a 'StringIO' object.\n",
      "  \n"
     ]
    }
   ],
   "source": [
    "html_output, time_info = ap.extract_tables(\n",
    "    file_path=\"./sample_data/test_1figure_1table.png\", return_type=\"csv\"\n",
    ")"
   ]
  },
  {
   "cell_type": "code",
   "execution_count": 65,
   "metadata": {},
   "outputs": [
    {
     "name": "stdout",
     "output_type": "stream",
     "text": [
      "CPU times: user 3 μs, sys: 0 ns, total: 3 μs\n",
      "Wall time: 5.01 μs\n"
     ]
    }
   ],
   "source": [
    "time"
   ]
  },
  {
   "cell_type": "code",
   "execution_count": 66,
   "metadata": {},
   "outputs": [
    {
     "data": {
      "text/markdown": [
       "0,1,2\n",
       ",latency,(ms)\n",
       "participants,mean,99th percentile\n",
       "1,17.0 +1.4,75.0 34.9\n",
       "2,24.5 +2.5,87.6 35.9\n",
       "5,31.5 +6.2,104.5 52.2\n",
       "10,30.0 +3.7,95.6 25.4\n",
       "25,35.5 +5.6,100.4 42.7\n",
       "50,42.7 +4.1,93.7 22.9\n",
       "100,71.4 +7.6,131.2 +17.6\n",
       "200,150.5 +11.0,320.3 35.1\n"
      ],
      "text/plain": [
       "<IPython.core.display.Markdown object>"
      ]
     },
     "metadata": {},
     "output_type": "display_data"
    }
   ],
   "source": [
    "if isinstance(html_output, list):\n",
    "    html_output_str = \"\\n\".join(html_output)\n",
    "else:\n",
    "    html_output_str = html_output\n",
    "\n",
    "display(Markdown(html_output_str))"
   ]
  }
 ],
 "metadata": {
  "kernelspec": {
   "display_name": "any",
   "language": "python",
   "name": "python3"
  },
  "language_info": {
   "codemirror_mode": {
    "name": "ipython",
    "version": 3
   },
   "file_extension": ".py",
   "mimetype": "text/x-python",
   "name": "python",
   "nbconvert_exporter": "python",
   "pygments_lexer": "ipython3",
   "version": "3.12.2"
  }
 },
 "nbformat": 4,
 "nbformat_minor": 2
}
