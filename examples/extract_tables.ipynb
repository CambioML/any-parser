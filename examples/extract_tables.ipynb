{
 "cells": [
  {
   "cell_type": "code",
   "execution_count": 6,
   "metadata": {},
   "outputs": [],
   "source": [
    "# Install the libraries (ipython is used for displaying markdown in this demo)\n",
    "# !pip3 install --upgrade ipython\n",
    "# !pip3 install --upgrade any-parser"
   ]
  },
  {
   "cell_type": "code",
   "execution_count": 1,
   "metadata": {},
   "outputs": [
    {
     "name": "stdout",
     "output_type": "stream",
     "text": [
      "/home/ubuntu/any-parser/any_parser/__init__.py\n"
     ]
    }
   ],
   "source": [
    "from IPython.display import display, Markdown\n",
    "from any_parser import AnyParser"
   ]
  },
  {
   "cell_type": "code",
   "execution_count": 2,
   "metadata": {},
   "outputs": [],
   "source": [
    "ap = AnyParser(api_key=\"...\")"
   ]
  },
  {
   "cell_type": "code",
   "execution_count": 6,
   "metadata": {},
   "outputs": [],
   "source": [
    "csv_output, time_info = ap.extract_tables(\n",
    "    file_path=\"./sample_data/test_1figure_1table.png\", return_type=\"csv\"\n",
    ")\n",
    "\n",
    "html_output, time_info = ap.extract_tables(\n",
    "    file_path=\"./sample_data/test_1figure_1table.png\", return_type=\"html\"\n",
    ")"
   ]
  },
  {
   "cell_type": "code",
   "execution_count": 7,
   "metadata": {},
   "outputs": [
    {
     "name": "stdout",
     "output_type": "stream",
     "text": [
      "CPU times: user 2 μs, sys: 0 ns, total: 2 μs\n",
      "Wall time: 5.25 μs\n"
     ]
    }
   ],
   "source": [
    "time"
   ]
  },
  {
   "cell_type": "code",
   "execution_count": 8,
   "metadata": {},
   "outputs": [
    {
     "data": {
      "text/markdown": [
       "0,1,2\n",
       ",latency,(ms)\n",
       "participants,mean,99th percentile\n",
       "1,17.0 +1.4,75.0 34.9\n",
       "2,24.5 +2.5,87.6 35.9\n",
       "5,31.5 +6.2,104.5 52.2\n",
       "10,30.0 +3.7,95.6 25.4\n",
       "25,35.5 +5.6,100.4 42.7\n",
       "50,42.7 +4.1,93.7 22.9\n",
       "100,71.4 +7.6,131.2 +17.6\n",
       "200,150.5 +11.0,320.3 35.1\n"
      ],
      "text/plain": [
       "<IPython.core.display.Markdown object>"
      ]
     },
     "metadata": {},
     "output_type": "display_data"
    },
    {
     "data": {
      "text/markdown": [
       "<table>\n",
       "<tbody>\n",
       "<tr><td>            </td><td>latency    </td><td>(ms)           </td></tr>\n",
       "<tr><td>participants</td><td>mean       </td><td>99th percentile</td></tr>\n",
       "<tr><td>1           </td><td>17.0 +1.4  </td><td>75.0 34.9      </td></tr>\n",
       "<tr><td>2           </td><td>24.5 +2.5  </td><td>87.6 35.9      </td></tr>\n",
       "<tr><td>5           </td><td>31.5 +6.2  </td><td>104.5 52.2     </td></tr>\n",
       "<tr><td>10          </td><td>30.0 +3.7  </td><td>95.6 25.4      </td></tr>\n",
       "<tr><td>25          </td><td>35.5 +5.6  </td><td>100.4 42.7     </td></tr>\n",
       "<tr><td>50          </td><td>42.7 +4.1  </td><td>93.7 22.9      </td></tr>\n",
       "<tr><td>100         </td><td>71.4 +7.6  </td><td>131.2 +17.6    </td></tr>\n",
       "<tr><td>200         </td><td>150.5 +11.0</td><td>320.3 35.1     </td></tr>\n",
       "</tbody>\n",
       "</table>\n",
       "\n"
      ],
      "text/plain": [
       "<IPython.core.display.Markdown object>"
      ]
     },
     "metadata": {},
     "output_type": "display_data"
    }
   ],
   "source": [
    "if isinstance(csv_output, list):\n",
    "    csv_output_str = \"\\n\".join(csv_output)\n",
    "else:\n",
    "    csv_output_str = csv_output\n",
    "\n",
    "display(Markdown(csv_output_str))\n",
    "display(Markdown(html_output))"
   ]
  }
 ],
 "metadata": {
  "kernelspec": {
   "display_name": "any",
   "language": "python",
   "name": "python3"
  },
  "language_info": {
   "codemirror_mode": {
    "name": "ipython",
    "version": 3
   },
   "file_extension": ".py",
   "mimetype": "text/x-python",
   "name": "python",
   "nbconvert_exporter": "python",
   "pygments_lexer": "ipython3",
   "version": "3.12.2"
  }
 },
 "nbformat": 4,
 "nbformat_minor": 2
}
